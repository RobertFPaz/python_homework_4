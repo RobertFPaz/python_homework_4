{
 "cells": [
  {
   "cell_type": "code",
   "execution_count": null,
   "id": "d2497b30",
   "metadata": {},
   "outputs": [
    {
     "name": "stdout",
     "output_type": "stream",
     "text": [
      "Welcome to my online grocery store.\n"
     ]
    }
   ],
   "source": [
    "#Exercise 1\n",
    "# Create a class called cart that retains items and has methods to add, remove, and show\n",
    "\n",
    "class Cart():\n",
    "    \n",
    "    def __init__(self, shopping_cart = {}, count = 0):\n",
    "        self.shopping_cart = shopping_cart\n",
    "        self.count = count\n",
    "        \n",
    "    def add(self):\n",
    "        key = input(\"What would you like to add? \")\n",
    "        if key.lower() in self.shopping_cart.keys():\n",
    "            duplicate = input(f\"You are already have {key.strip().lower()} in your cart. Would you like to add More? Y/N \")\n",
    "            if duplicate.upper().strip() == \"Y\":\n",
    "                add = input(\"How many more?\")\n",
    "                strip_add = add.strip()\n",
    "                self.shopping_cart[key.lower().strip()] += int(strip_add)\n",
    "                self.count += int(strip_add)\n",
    "                print(f\"Okay, I'll add {strip_add} more to your cart.\")\n",
    "            elif duplicate.upper().strip() == \"N\":\n",
    "                print(\"We'll skip this. Shop on shopper.\")\n",
    "            else:\n",
    "                print(\"You did not enter a correct command. No items were added.\")\n",
    "        else:\n",
    "            quantity = input(\"How many would you like to add? \")\n",
    "            strip_quantity = quantity.strip()\n",
    "            if strip_quantity.isnumeric():\n",
    "                self.shopping_cart[key.strip().lower()] = int(strip_quantity)\n",
    "                self.count += int(strip_quantity)\n",
    "                print(f\"Okay, I'll add {strip_quantity} {key.lower().strip()} to your cart.\")\n",
    "            else: \n",
    "                print(\"You must enter an integer. No items were added to your cart.\")\n",
    "            \n",
    "    def show(self):\n",
    "        print(f\"You have {self.count} items in your cart.\")\n",
    "        for key, value in self.shopping_cart.items():\n",
    "              print(key, value)\n",
    "    def remove(self):\n",
    "        delete = input(\"What would you like me to put back? \")\n",
    "        if delete.strip().lower() in self.shopping_cart:\n",
    "            print(f\"Okay, I'll remove {delete.lower().strip()} from your cart.\")\n",
    "            self.count -= self.shopping_cart[delete.strip().lower()]\n",
    "            del self.shopping_cart[delete.strip().lower()]\n",
    "        else:\n",
    "            print(\"Hmmm. It looks like you don't have that in your shopping cart.\")\n",
    "    def checkout(self):\n",
    "        print(\"Here is your receipt.\")\n",
    "        for key, value in self.shopping_cart.items():\n",
    "              print(key, value)\n",
    "        print(f\"Total items: {self.count}\")\n",
    "        self.count = 0\n",
    "        self.shopping_cart = {}\n",
    "        print(\"Thanks for shopping!\")\n",
    "        \n",
    "grocery_cart = Cart()\n",
    "\n",
    "def store():\n",
    "    print(\"Welcome to my online grocery store.\")\n",
    "    while True: \n",
    "        response = input(\"Let's fill your cart! Select: add/remove/show/checkout or quit. \")\n",
    "        \n",
    "        if response.lower().strip() == 'add':\n",
    "            grocery_cart.add()\n",
    "        elif response.lower().strip() == 'show':\n",
    "              grocery_cart.show()\n",
    "        elif response.lower().strip() == 'remove':\n",
    "            grocery_cart.remove()\n",
    "        elif response.lower().strip() == 'checkout':\n",
    "            grocery_cart.checkout()\n",
    "        elif response.lower().strip() == \"quit\":\n",
    "            if len(grocery_cart.shopping_cart) > 0:\n",
    "                confirm = input(\"Looks like you left some items in your cart. Are you sure you want to quit? (Y/N) \")\n",
    "                if confirm.strip().upper() == \"N\":\n",
    "                    continue\n",
    "                elif confirm.strip().upper() == \"Y\":\n",
    "                    print(\"We'll hold onto these items for you in case you change your mind.\")\n",
    "                    return\n",
    "            else:\n",
    "                print(\"Thanks for stopping by!\")\n",
    "                return\n",
    "        else:\n",
    "            print(\"You didn't enter a correct command.\")\n",
    "store()"
   ]
  },
  {
   "cell_type": "code",
   "execution_count": 6,
   "id": "74ee2878",
   "metadata": {},
   "outputs": [
    {
     "name": "stdout",
     "output_type": "stream",
     "text": [
      "This is a Blue Ford Explorer car with 4 wheels\n"
     ]
    }
   ],
   "source": [
    "#Exercise 2 from lecture notes\n",
    "# Create Parent Class called Car - That will be inherited by child Class called Ford\n",
    "# Add a method to the Car class that prints \"This is a car\"\n",
    "# Inside of the Child Class initialize the the inherited info using super()\n",
    "# Override the above method with the information of the Ford Car\n",
    "class Car():\n",
    "    def __init__(self, make= \"generic make\", model = \"generic model\", color = \"white\", wheels = 4):\n",
    "            self.make = make\n",
    "            self.model = model\n",
    "            self.color = color\n",
    "            self.wheels = wheels\n",
    "    def print_car(self):\n",
    "        print(f\"This is a {self.color} {self.make} {self.model} car with {self.wheels} wheels\")\n",
    "        \n",
    "class Ford(Car):\n",
    "    def __init__(self, make, model, color):\n",
    "        super().__init__(make, model, color) \n",
    "    def print_car(self):\n",
    "        print(f\"This is a {self.color} {self.make} {self.model} car with {self.wheels} wheels\")\n",
    "        \n",
    "new_ford = Ford(\"Ford\", \"Explorer\", \"Blue\")\n",
    "\n",
    "def make_new_ford():\n",
    "    new_ford.print_car()\n",
    "    \n",
    "make_new_ford()"
   ]
  },
  {
   "cell_type": "code",
   "execution_count": 3,
   "id": "2f4ebdf5",
   "metadata": {},
   "outputs": [
    {
     "name": "stdout",
     "output_type": "stream",
     "text": [
      "What is your favorite color? blue\n",
      "BLUE is your favorite color!\n"
     ]
    }
   ],
   "source": [
    "#Exercise 2 from video\n",
    "#Write a Python class which has two methods, get_String and print_String. get_String accept \n",
    "#a string from the user and print_String print in upper case.\n",
    "class String():\n",
    "    def __init__(self,string=\"\"):\n",
    "        self.string = string\n",
    "        \n",
    "    def get_String(self):\n",
    "        self.string = input(\"What is your favorite color? \")\n",
    "        \n",
    "    def print_String(self):\n",
    "        print(f\"{self.string.upper()} is your favorite color!\")\n",
    "        \n",
    "color_picker = String()\n",
    "def color_collector():\n",
    "    color_picker.get_String()\n",
    "    color_picker.print_String()\n",
    "    \n",
    "color_collector()"
   ]
  },
  {
   "cell_type": "code",
   "execution_count": 5,
   "id": "394a5062",
   "metadata": {},
   "outputs": [
    {
     "name": "stdout",
     "output_type": "stream",
     "text": [
      "This is a white generic make generic model car with 4 wheels\n"
     ]
    }
   ],
   "source": [
    "         "
   ]
  },
  {
   "cell_type": "code",
   "execution_count": null,
   "id": "3238656d",
   "metadata": {},
   "outputs": [],
   "source": []
  }
 ],
 "metadata": {
  "kernelspec": {
   "display_name": "Python 3 (ipykernel)",
   "language": "python",
   "name": "python3"
  },
  "language_info": {
   "codemirror_mode": {
    "name": "ipython",
    "version": 3
   },
   "file_extension": ".py",
   "mimetype": "text/x-python",
   "name": "python",
   "nbconvert_exporter": "python",
   "pygments_lexer": "ipython3",
   "version": "3.9.12"
  }
 },
 "nbformat": 4,
 "nbformat_minor": 5
}
